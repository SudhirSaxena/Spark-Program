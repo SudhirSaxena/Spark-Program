{
  "nbformat": 4,
  "nbformat_minor": 0,
  "metadata": {
    "colab": {
      "name": "Copy of Machine_translation.ipynb",
      "provenance": [],
      "collapsed_sections": [],
      "include_colab_link": true
    },
    "kernelspec": {
      "name": "python3",
      "display_name": "Python 3"
    },
    "accelerator": "GPU"
  },
  "cells": [
    {
      "cell_type": "markdown",
      "metadata": {
        "id": "view-in-github",
        "colab_type": "text"
      },
      "source": [
        "<a href=\"https://colab.research.google.com/github/SudhirSaxena/Spark-Program/blob/master/Copy_of_Machine_translation.ipynb\" target=\"_parent\"><img src=\"https://colab.research.google.com/assets/colab-badge.svg\" alt=\"Open In Colab\"/></a>"
      ]
    },
    {
      "cell_type": "code",
      "metadata": {
        "id": "1fhTe6Ja4Y8k",
        "colab_type": "code",
        "colab": {
          "base_uri": "https://localhost:8080/",
          "height": 35
        },
        "outputId": "af9ccc20-6d20-4be8-8a50-6c00f67540cf"
      },
      "source": [
        "from google.colab import drive\n",
        "drive.mount(\"/content/drive\")"
      ],
      "execution_count": null,
      "outputs": [
        {
          "output_type": "stream",
          "text": [
            "Drive already mounted at /content/drive; to attempt to forcibly remount, call drive.mount(\"/content/drive\", force_remount=True).\n"
          ],
          "name": "stdout"
        }
      ]
    },
    {
      "cell_type": "code",
      "metadata": {
        "id": "h4dFEh_W5VRP",
        "colab_type": "code",
        "colab": {
          "base_uri": "https://localhost:8080/",
          "height": 35
        },
        "outputId": "79cd9767-d483-4781-a421-cd6b87433c40"
      },
      "source": [
        "cd /content/drive/My\\ Drive/Machine_translation"
      ],
      "execution_count": null,
      "outputs": [
        {
          "output_type": "stream",
          "text": [
            "/content/drive/My Drive/Machine_translation\n"
          ],
          "name": "stdout"
        }
      ]
    },
    {
      "cell_type": "code",
      "metadata": {
        "id": "_3uzVfas503q",
        "colab_type": "code",
        "colab": {}
      },
      "source": [
        "import numpy as np\n",
        "import pandas as pd\n",
        "import matplotlib.pyplot as plt\n",
        "%matplotlib inline"
      ],
      "execution_count": null,
      "outputs": []
    },
    {
      "cell_type": "code",
      "metadata": {
        "id": "WDlMvsjX6P_y",
        "colab_type": "code",
        "colab": {}
      },
      "source": [
        "#Text in langauge 1 from which conversion to other language will take place\n",
        "input_text = []\n",
        "#Text in target langauge to which conversion will take place\n",
        "target_text = []\n",
        "#Input of the decoder\n",
        "target_input_text = []"
      ],
      "execution_count": null,
      "outputs": []
    },
    {
      "cell_type": "code",
      "metadata": {
        "id": "S9N_ERh__COH",
        "colab_type": "code",
        "colab": {}
      },
      "source": [
        "count = 0\n",
        "#We have 1,20,614 samples in our spa.txt file\n",
        "Num_samples = 10000\n",
        "for line in open(\"spa.txt\"):\n",
        "  count = count + 1\n",
        "  #Our count will be for the number of samples we are going to take to train model on\n",
        "  if count > Num_samples:\n",
        "    break\n",
        "  #As in our spa.txt file our english and spanish text has been separated by a tab so we need to split on tab and if a line doesn't have tab we have to ignore it and move to next line\n",
        "  if \"\\t\" not in line:\n",
        "    continue\n",
        "  #Now splitting lines\n",
        "  input_t,target_t = line.split(\"\\t\")\n",
        "  #Now we will be adding a <sos> token in our target as it will be input to our decoder\n",
        "  target_input_txt = \"<sos> \"+target_t\n",
        "  #We will also add a <eos> token at end of target_t so as to create the output of decoder\n",
        "  target_txt = target_t+\" <eos>\"\n",
        "  #Now we will be appending the text data to our lists of input_text and target_text\n",
        "  input_text.append(input_t)\n",
        "  target_text.append(target_txt)\n",
        "  target_input_text.append(target_input_txt)"
      ],
      "execution_count": null,
      "outputs": []
    },
    {
      "cell_type": "code",
      "metadata": {
        "id": "TgOuCIysCT_r",
        "colab_type": "code",
        "colab": {
          "base_uri": "https://localhost:8080/",
          "height": 35
        },
        "outputId": "1a2656e7-9e77-405a-8b76-0713b39b1c0d"
      },
      "source": [
        "#Checking the size of the input and output samples created\n",
        "print(\"Input samples: \",len(input_text))"
      ],
      "execution_count": null,
      "outputs": [
        {
          "output_type": "stream",
          "text": [
            "Input samples:  10000\n"
          ],
          "name": "stdout"
        }
      ]
    },
    {
      "cell_type": "markdown",
      "metadata": {
        "id": "dSVv2ICFCrjY",
        "colab_type": "text"
      },
      "source": [
        "Now as we have our input and output data for our encoder decoder architecture what we need to do is to preprocess it so that it can be fed to neural networks"
      ]
    },
    {
      "cell_type": "markdown",
      "metadata": {
        "id": "SKBIox3VFCFw",
        "colab_type": "text"
      },
      "source": [
        "Preprocessing the input text data"
      ]
    },
    {
      "cell_type": "code",
      "metadata": {
        "id": "rL3vpn6uCrPv",
        "colab_type": "code",
        "colab": {
          "base_uri": "https://localhost:8080/",
          "height": 35
        },
        "outputId": "f44a7ece-e39a-4bb1-aeb2-69890de5ec2f"
      },
      "source": [
        "from keras.preprocessing.text import Tokenizer\n",
        "Maximum_num_words = 20000\n",
        "tokenizer = Tokenizer(num_words = Maximum_num_words)\n",
        "tokenizer.fit_on_texts(input_text)\n",
        "#Converting our sequence of words to sequence of integers\n",
        "input_sequences = tokenizer.texts_to_sequences(input_text)"
      ],
      "execution_count": null,
      "outputs": [
        {
          "output_type": "stream",
          "text": [
            "Using TensorFlow backend.\n"
          ],
          "name": "stderr"
        }
      ]
    },
    {
      "cell_type": "code",
      "metadata": {
        "id": "3eWl6Fk8Ds6O",
        "colab_type": "code",
        "colab": {
          "base_uri": "https://localhost:8080/",
          "height": 35
        },
        "outputId": "2982f1bd-beff-42e8-ad2a-d05b6a5a943a"
      },
      "source": [
        "#Word to index for the inputs\n",
        "word2idx_input = tokenizer.word_index\n",
        "print(len(word2idx_input))"
      ],
      "execution_count": null,
      "outputs": [
        {
          "output_type": "stream",
          "text": [
            "2364\n"
          ],
          "name": "stdout"
        }
      ]
    },
    {
      "cell_type": "code",
      "metadata": {
        "id": "my6mrFIqEFTN",
        "colab_type": "code",
        "colab": {
          "base_uri": "https://localhost:8080/",
          "height": 35
        },
        "outputId": "6cbba49d-3ac6-4bac-ce76-6c086348c287"
      },
      "source": [
        "#Max length of input sequence\n",
        "max_i_len = max(len(s) for s in input_sequences)\n",
        "print(\"Max_input_length_sequence: \",max_i_len)"
      ],
      "execution_count": null,
      "outputs": [
        {
          "output_type": "stream",
          "text": [
            "Max_input_length_sequence:  5\n"
          ],
          "name": "stdout"
        }
      ]
    },
    {
      "cell_type": "markdown",
      "metadata": {
        "id": "4UmYtZdUFRki",
        "colab_type": "text"
      },
      "source": [
        "Preprocessing the output text data keeping the special characters intact else start of sentence and end of sentence won't appear"
      ]
    },
    {
      "cell_type": "code",
      "metadata": {
        "id": "nP2HAOxfFBGl",
        "colab_type": "code",
        "colab": {}
      },
      "source": [
        "#Creating from text to sequence the output text \n",
        "tokenizer1 = Tokenizer(num_words = Maximum_num_words,filters = \" \")\n",
        "tokenizer1.fit_on_texts(target_input_text+target_text)\n",
        "target_input_sequences = tokenizer1.texts_to_sequences(target_input_text)\n",
        "target_sequences = tokenizer1.texts_to_sequences(target_text)"
      ],
      "execution_count": null,
      "outputs": []
    },
    {
      "cell_type": "code",
      "metadata": {
        "id": "X7nEPyDIG-1F",
        "colab_type": "code",
        "colab": {
          "base_uri": "https://localhost:8080/",
          "height": 35
        },
        "outputId": "3a72ddde-7814-49b4-c161-c2f7d3d0790d"
      },
      "source": [
        "#Word to index for the outputs target\n",
        "word2idx_output = tokenizer1.word_index\n",
        "print(len(word2idx_output))"
      ],
      "execution_count": null,
      "outputs": [
        {
          "output_type": "stream",
          "text": [
            "6298\n"
          ],
          "name": "stdout"
        }
      ]
    },
    {
      "cell_type": "code",
      "metadata": {
        "id": "qZNH4tBbHaUQ",
        "colab_type": "code",
        "colab": {
          "base_uri": "https://localhost:8080/",
          "height": 35
        },
        "outputId": "252604e6-5796-42e0-a84d-d7a5a7c7b90a"
      },
      "source": [
        "#Maximum length of target sequence\n",
        "max_o_len = max(len(s) for s in target_sequences)\n",
        "print(\"Maximum_output_length_sequence: \",max_o_len)"
      ],
      "execution_count": null,
      "outputs": [
        {
          "output_type": "stream",
          "text": [
            "Maximum_output_length_sequence:  9\n"
          ],
          "name": "stdout"
        }
      ]
    },
    {
      "cell_type": "markdown",
      "metadata": {
        "id": "Dit0YgztIRlE",
        "colab_type": "text"
      },
      "source": [
        "Now as we have converted our sequnce of words to sequence of integers next will be to pad them so as to bring all to same length(mostly we do post padding)"
      ]
    },
    {
      "cell_type": "markdown",
      "metadata": {
        "id": "v2RMMYFbJtTt",
        "colab_type": "text"
      },
      "source": [
        "Now padding the input, target and target_input sequences as per the max length found in sequences"
      ]
    },
    {
      "cell_type": "code",
      "metadata": {
        "id": "BIhVVWeHIOzT",
        "colab_type": "code",
        "colab": {}
      },
      "source": [
        "from keras.preprocessing.sequence import pad_sequences\n",
        "encoder_inputs = pad_sequences(input_sequences,maxlen = max_i_len)\n",
        "decoder_inputs = pad_sequences(target_input_sequences,maxlen = max_o_len,padding = \"post\")\n",
        "decoder_outputs = pad_sequences(target_sequences,maxlen = max_o_len,padding = \"post\")"
      ],
      "execution_count": null,
      "outputs": []
    },
    {
      "cell_type": "code",
      "metadata": {
        "id": "vBJaDzgsK7nN",
        "colab_type": "code",
        "colab": {
          "base_uri": "https://localhost:8080/",
          "height": 72
        },
        "outputId": "ab9e9b0f-0a7f-4971-e5c2-9d68a5ac8120"
      },
      "source": [
        "#Checking the length of padded_sequences\n",
        "print(\"encoder_input_padded_dim: \",encoder_inputs.shape)\n",
        "print(\"decoder_input_padded_dim: \",decoder_inputs.shape)\n",
        "print(\"decoder_output_padded_dim: \",decoder_outputs.shape)"
      ],
      "execution_count": null,
      "outputs": [
        {
          "output_type": "stream",
          "text": [
            "encoder_input_padded_dim:  (10000, 5)\n",
            "decoder_input_padded_dim:  (10000, 9)\n",
            "decoder_output_padded_dim:  (10000, 9)\n"
          ],
          "name": "stdout"
        }
      ]
    },
    {
      "cell_type": "code",
      "metadata": {
        "id": "QtwZsZEaLn5Y",
        "colab_type": "code",
        "colab": {
          "base_uri": "https://localhost:8080/",
          "height": 35
        },
        "outputId": "8792d36e-07f4-4987-9bf2-08e33cc8ae92"
      },
      "source": [
        "#Here we will be using Glove word vectors\n",
        "#First creating a dictonary of word to vectors(initializing a empty dictionary)\n",
        "word2vec = {}\n",
        "with open(\"glove.6B.100d.txt\") as f:\n",
        "  for line in f:\n",
        "    values = line.split()\n",
        "    word = values[0]\n",
        "    vec = np.asarray(values[1:],dtype = \"float32\")\n",
        "    word2vec[word] = vec\n",
        "print(\"No of word to vectors in glove word 2 vec: \",len(word2vec))\n",
        "#So here basically we created a dictionary having words as index and corresponding vectors as values"
      ],
      "execution_count": null,
      "outputs": [
        {
          "output_type": "stream",
          "text": [
            "No of word to vectors in glove word 2 vec:  400000\n"
          ],
          "name": "stdout"
        }
      ]
    },
    {
      "cell_type": "markdown",
      "metadata": {
        "id": "Noz0Z_BCNA_w",
        "colab_type": "text"
      },
      "source": [
        "Now next step which we gonna do is create a embedding matrix which we will use for mapping each of the word of our sentence to a vector "
      ]
    },
    {
      "cell_type": "code",
      "metadata": {
        "id": "3a3crOv9NHmO",
        "colab_type": "code",
        "colab": {}
      },
      "source": [
        "#These num_words will be our vocabulary size\n",
        "#Embedding_dim will be the size of our embeddings(word vectors), which will be 100 as in glove 100d each word contain a corresponding vector of 100d\n",
        "#This plus 1 because word2idx index start from 1\n",
        "#Taking max_vocab_size to be 20000\n",
        "Max_vocab_size = 20000\n",
        "num_words = min(Max_vocab_size,len(word2idx_input)+1)\n",
        "Embedding_dim = 100\n",
        "embedding_matrix = np.zeros((num_words,Embedding_dim))\n",
        "for word,i in word2idx_input.items():\n",
        "  if i<Max_vocab_size:\n",
        "    embedding_vector = word2vec.get(word)\n",
        "    if embedding_vector is not None:\n",
        "      embedding_matrix[i] = embedding_vector\n",
        "#This is the way we gonna fill our embedding matrix with word vectors"
      ],
      "execution_count": null,
      "outputs": []
    },
    {
      "cell_type": "markdown",
      "metadata": {
        "id": "bvS767ADOoF1",
        "colab_type": "text"
      },
      "source": [
        "Now creating the embedding layer"
      ]
    },
    {
      "cell_type": "code",
      "metadata": {
        "id": "Gp9S9QUXOXK8",
        "colab_type": "code",
        "colab": {}
      },
      "source": [
        "from keras.layers import Embedding\n",
        "embedding_layer = Embedding(num_words,Embedding_dim,weights = [embedding_matrix],input_length = max_i_len)"
      ],
      "execution_count": null,
      "outputs": []
    },
    {
      "cell_type": "markdown",
      "metadata": {
        "id": "5ginZxEgPNzR",
        "colab_type": "text"
      },
      "source": [
        "Now we gonna be creating targets as we can have sparse crossentropy when we have sequences"
      ]
    },
    {
      "cell_type": "code",
      "metadata": {
        "id": "-rgDoxrBPaUA",
        "colab_type": "code",
        "colab": {}
      },
      "source": [
        "decoder_target_one_hot = np.zeros((len(input_text),max_o_len,len(word2idx_output)+1),dtype = \"float32\")\n",
        "#Assigning the values\n",
        "for i,d in enumerate(decoder_outputs):\n",
        "  for t,word in enumerate(d):\n",
        "    decoder_target_one_hot[i,t,word] = 1"
      ],
      "execution_count": null,
      "outputs": []
    },
    {
      "cell_type": "markdown",
      "metadata": {
        "id": "h1c8LHA8Rl2G",
        "colab_type": "text"
      },
      "source": [
        "Now next we will build our model"
      ]
    },
    {
      "cell_type": "code",
      "metadata": {
        "id": "yEIhdqu_RMuz",
        "colab_type": "code",
        "colab": {}
      },
      "source": [
        "from keras.models import Model\n",
        "from keras.layers import LSTM,Dense,Input\n",
        "#Defining the latent dimension\n",
        "M = 512"
      ],
      "execution_count": null,
      "outputs": []
    },
    {
      "cell_type": "code",
      "metadata": {
        "id": "DkuNBW1zUb9J",
        "colab_type": "code",
        "colab": {}
      },
      "source": [
        "#Setting the encoder\n",
        "encoder_input = Input(shape = (max_i_len,))\n",
        "x = embedding_layer(encoder_input)\n",
        "encoder = LSTM(M,return_state = True,dropout = 0.5)\n",
        "#If we would have used GRU we would not c(cell state)\n",
        "encoder_output,h,c = encoder(x)\n",
        "#Keeping only the states to pass to decoder\n",
        "encoder_states = [h,c]\n",
        "\n",
        "#Setting the decoder\n",
        "decoder_input = Input(shape = (max_o_len,))\n",
        "#We will b creating a different embedding for the decoder as here we are generating different language\n",
        "decoder_embedding = Embedding(len(word2idx_output)+1,M)\n",
        "decoder_input_x = decoder_embedding(decoder_input)\n",
        "decoder_lstm = LSTM(M,return_sequences = True,return_state = True,dropout = 0.5)\n",
        "#Since we will be returning output at each time stamp n decoder so decoder return_sequence will be True\n",
        "decoder_output,_,_ = decoder_lstm(decoder_input_x,initial_state = encoder_states)\n",
        "decoder_dense = Dense(len(word2idx_output)+1,activation = \"softmax\")\n",
        "decoder_output = decoder_dense(decoder_output)\n",
        "model = Model([encoder_input,decoder_input],decoder_output)\n",
        "\n",
        "#Compiling the model\n",
        "model.compile(optimizer = \"rmsprop\",loss = \"categorical_crossentropy\",metrics = [\"accuracy\"])"
      ],
      "execution_count": null,
      "outputs": []
    },
    {
      "cell_type": "code",
      "metadata": {
        "id": "vjhzhfc_X12P",
        "colab_type": "code",
        "colab": {
          "base_uri": "https://localhost:8080/",
          "height": 1000
        },
        "outputId": "0bd65dd3-30ec-456d-da9f-0afb52acde90"
      },
      "source": [
        "ht = model.fit([encoder_inputs,decoder_inputs],decoder_target_one_hot,batch_size = 128,epochs = 50,validation_split = 0.2)"
      ],
      "execution_count": null,
      "outputs": [
        {
          "output_type": "stream",
          "text": [
            "Train on 8000 samples, validate on 2000 samples\n",
            "Epoch 1/50\n",
            "8000/8000 [==============================] - 5s 638us/step - loss: 0.9273 - accuracy: 0.8176 - val_loss: 1.9600 - val_accuracy: 0.7417\n",
            "Epoch 2/50\n",
            "8000/8000 [==============================] - 5s 642us/step - loss: 0.8705 - accuracy: 0.8241 - val_loss: 1.9835 - val_accuracy: 0.7412\n",
            "Epoch 3/50\n",
            "8000/8000 [==============================] - 5s 644us/step - loss: 0.8182 - accuracy: 0.8316 - val_loss: 1.9681 - val_accuracy: 0.7433\n",
            "Epoch 4/50\n",
            "8000/8000 [==============================] - 5s 651us/step - loss: 0.7677 - accuracy: 0.8380 - val_loss: 1.9633 - val_accuracy: 0.7432\n",
            "Epoch 5/50\n",
            "8000/8000 [==============================] - 5s 644us/step - loss: 0.7234 - accuracy: 0.8461 - val_loss: 1.9479 - val_accuracy: 0.7434\n",
            "Epoch 6/50\n",
            "8000/8000 [==============================] - 5s 640us/step - loss: 0.6805 - accuracy: 0.8522 - val_loss: 1.9322 - val_accuracy: 0.7459\n",
            "Epoch 7/50\n",
            "8000/8000 [==============================] - 5s 643us/step - loss: 0.6429 - accuracy: 0.8576 - val_loss: 1.9636 - val_accuracy: 0.7420\n",
            "Epoch 8/50\n",
            "8000/8000 [==============================] - 5s 626us/step - loss: 0.6073 - accuracy: 0.8635 - val_loss: 1.9775 - val_accuracy: 0.7401\n",
            "Epoch 9/50\n",
            "8000/8000 [==============================] - 5s 638us/step - loss: 0.5735 - accuracy: 0.8701 - val_loss: 1.9913 - val_accuracy: 0.7403\n",
            "Epoch 10/50\n",
            "8000/8000 [==============================] - 5s 641us/step - loss: 0.5469 - accuracy: 0.8742 - val_loss: 1.9882 - val_accuracy: 0.7421\n",
            "Epoch 11/50\n",
            "8000/8000 [==============================] - 5s 643us/step - loss: 0.5181 - accuracy: 0.8811 - val_loss: 1.9830 - val_accuracy: 0.7398\n",
            "Epoch 12/50\n",
            "8000/8000 [==============================] - 5s 635us/step - loss: 0.4915 - accuracy: 0.8854 - val_loss: 2.0226 - val_accuracy: 0.7380\n",
            "Epoch 13/50\n",
            "8000/8000 [==============================] - 5s 641us/step - loss: 0.4667 - accuracy: 0.8889 - val_loss: 2.0070 - val_accuracy: 0.7404\n",
            "Epoch 14/50\n",
            "8000/8000 [==============================] - 5s 637us/step - loss: 0.4445 - accuracy: 0.8934 - val_loss: 2.0191 - val_accuracy: 0.7357\n",
            "Epoch 15/50\n",
            "8000/8000 [==============================] - 5s 627us/step - loss: 0.4199 - accuracy: 0.8990 - val_loss: 2.0135 - val_accuracy: 0.7376\n",
            "Epoch 16/50\n",
            "8000/8000 [==============================] - 5s 627us/step - loss: 0.4018 - accuracy: 0.9025 - val_loss: 2.0386 - val_accuracy: 0.7356\n",
            "Epoch 17/50\n",
            "8000/8000 [==============================] - 5s 626us/step - loss: 0.3828 - accuracy: 0.9058 - val_loss: 2.0384 - val_accuracy: 0.7367\n",
            "Epoch 18/50\n",
            "8000/8000 [==============================] - 5s 629us/step - loss: 0.3674 - accuracy: 0.9088 - val_loss: 2.0419 - val_accuracy: 0.7349\n",
            "Epoch 19/50\n",
            "8000/8000 [==============================] - 5s 626us/step - loss: 0.3491 - accuracy: 0.9124 - val_loss: 2.0643 - val_accuracy: 0.7356\n",
            "Epoch 20/50\n",
            "8000/8000 [==============================] - 5s 629us/step - loss: 0.3355 - accuracy: 0.9147 - val_loss: 2.1049 - val_accuracy: 0.7339\n",
            "Epoch 21/50\n",
            "8000/8000 [==============================] - 5s 633us/step - loss: 0.3198 - accuracy: 0.9175 - val_loss: 2.1175 - val_accuracy: 0.7334\n",
            "Epoch 22/50\n",
            "8000/8000 [==============================] - 5s 623us/step - loss: 0.3058 - accuracy: 0.9201 - val_loss: 2.1539 - val_accuracy: 0.7342\n",
            "Epoch 23/50\n",
            "8000/8000 [==============================] - 5s 619us/step - loss: 0.2925 - accuracy: 0.9226 - val_loss: 2.1141 - val_accuracy: 0.7355\n",
            "Epoch 24/50\n",
            "8000/8000 [==============================] - 5s 621us/step - loss: 0.2806 - accuracy: 0.9246 - val_loss: 2.1511 - val_accuracy: 0.7331\n",
            "Epoch 25/50\n",
            "8000/8000 [==============================] - 5s 625us/step - loss: 0.2702 - accuracy: 0.9279 - val_loss: 2.1660 - val_accuracy: 0.7329\n",
            "Epoch 26/50\n",
            "8000/8000 [==============================] - 5s 622us/step - loss: 0.2612 - accuracy: 0.9280 - val_loss: 2.1755 - val_accuracy: 0.7337\n",
            "Epoch 27/50\n",
            "8000/8000 [==============================] - 5s 624us/step - loss: 0.2531 - accuracy: 0.9306 - val_loss: 2.1699 - val_accuracy: 0.7342\n",
            "Epoch 28/50\n",
            "8000/8000 [==============================] - 5s 636us/step - loss: 0.2423 - accuracy: 0.9324 - val_loss: 2.1919 - val_accuracy: 0.7335\n",
            "Epoch 29/50\n",
            "8000/8000 [==============================] - 5s 636us/step - loss: 0.2352 - accuracy: 0.9332 - val_loss: 2.1838 - val_accuracy: 0.7332\n",
            "Epoch 30/50\n",
            "8000/8000 [==============================] - 5s 628us/step - loss: 0.2294 - accuracy: 0.9347 - val_loss: 2.1936 - val_accuracy: 0.7341\n",
            "Epoch 31/50\n",
            "8000/8000 [==============================] - 5s 620us/step - loss: 0.2209 - accuracy: 0.9358 - val_loss: 2.2104 - val_accuracy: 0.7338\n",
            "Epoch 32/50\n",
            "8000/8000 [==============================] - 5s 628us/step - loss: 0.2151 - accuracy: 0.9373 - val_loss: 2.2315 - val_accuracy: 0.7352\n",
            "Epoch 33/50\n",
            "8000/8000 [==============================] - 5s 635us/step - loss: 0.2088 - accuracy: 0.9384 - val_loss: 2.2086 - val_accuracy: 0.7341\n",
            "Epoch 34/50\n",
            "8000/8000 [==============================] - 5s 630us/step - loss: 0.2039 - accuracy: 0.9392 - val_loss: 2.2477 - val_accuracy: 0.7330\n",
            "Epoch 35/50\n",
            "8000/8000 [==============================] - 5s 626us/step - loss: 0.1963 - accuracy: 0.9408 - val_loss: 2.2612 - val_accuracy: 0.7334\n",
            "Epoch 36/50\n",
            "8000/8000 [==============================] - 5s 624us/step - loss: 0.1929 - accuracy: 0.9408 - val_loss: 2.2515 - val_accuracy: 0.7347\n",
            "Epoch 37/50\n",
            "8000/8000 [==============================] - 5s 611us/step - loss: 0.1864 - accuracy: 0.9434 - val_loss: 2.2616 - val_accuracy: 0.7348\n",
            "Epoch 38/50\n",
            "8000/8000 [==============================] - 5s 629us/step - loss: 0.1832 - accuracy: 0.9423 - val_loss: 2.2841 - val_accuracy: 0.7326\n",
            "Epoch 39/50\n",
            "8000/8000 [==============================] - 5s 619us/step - loss: 0.1790 - accuracy: 0.9448 - val_loss: 2.2923 - val_accuracy: 0.7340\n",
            "Epoch 40/50\n",
            "8000/8000 [==============================] - 5s 622us/step - loss: 0.1757 - accuracy: 0.9439 - val_loss: 2.2851 - val_accuracy: 0.7363\n",
            "Epoch 41/50\n",
            "8000/8000 [==============================] - 5s 620us/step - loss: 0.1700 - accuracy: 0.9459 - val_loss: 2.3178 - val_accuracy: 0.7334\n",
            "Epoch 42/50\n",
            "8000/8000 [==============================] - 5s 629us/step - loss: 0.1689 - accuracy: 0.9451 - val_loss: 2.3030 - val_accuracy: 0.7343\n",
            "Epoch 43/50\n",
            "8000/8000 [==============================] - 5s 620us/step - loss: 0.1660 - accuracy: 0.9466 - val_loss: 2.3356 - val_accuracy: 0.7352\n",
            "Epoch 44/50\n",
            "8000/8000 [==============================] - 5s 616us/step - loss: 0.1626 - accuracy: 0.9461 - val_loss: 2.3114 - val_accuracy: 0.7378\n",
            "Epoch 45/50\n",
            "8000/8000 [==============================] - 5s 630us/step - loss: 0.1592 - accuracy: 0.9478 - val_loss: 2.3148 - val_accuracy: 0.7356\n",
            "Epoch 46/50\n",
            "8000/8000 [==============================] - 5s 621us/step - loss: 0.1564 - accuracy: 0.9482 - val_loss: 2.3049 - val_accuracy: 0.7358\n",
            "Epoch 47/50\n",
            "8000/8000 [==============================] - 5s 624us/step - loss: 0.1532 - accuracy: 0.9490 - val_loss: 2.3506 - val_accuracy: 0.7335\n",
            "Epoch 48/50\n",
            "8000/8000 [==============================] - 5s 630us/step - loss: 0.1497 - accuracy: 0.9492 - val_loss: 2.3513 - val_accuracy: 0.7361\n",
            "Epoch 49/50\n",
            "8000/8000 [==============================] - 5s 631us/step - loss: 0.1497 - accuracy: 0.9490 - val_loss: 2.3490 - val_accuracy: 0.7345\n",
            "Epoch 50/50\n",
            "8000/8000 [==============================] - 5s 629us/step - loss: 0.1497 - accuracy: 0.9492 - val_loss: 2.3182 - val_accuracy: 0.7356\n"
          ],
          "name": "stdout"
        }
      ]
    },
    {
      "cell_type": "markdown",
      "metadata": {
        "id": "3i3VLtx9hZJB",
        "colab_type": "text"
      },
      "source": [
        "From the epochs we can see that overfitting accured"
      ]
    },
    {
      "cell_type": "markdown",
      "metadata": {
        "id": "TAKLkEMgZYuX",
        "colab_type": "text"
      },
      "source": [
        "PLotting the accuracy and loss curve"
      ]
    },
    {
      "cell_type": "code",
      "metadata": {
        "id": "Z_7Ezdq4ZWdK",
        "colab_type": "code",
        "colab": {
          "base_uri": "https://localhost:8080/",
          "height": 265
        },
        "outputId": "0e77b376-c21b-4e17-9d2e-b70cf9fdcfc2"
      },
      "source": [
        "plt.plot(ht.history[\"loss\"],label = \"loss\")\n",
        "plt.plot(ht.history[\"val_loss\"],label = \"val_loss\")\n",
        "plt.legend()\n",
        "plt.show()"
      ],
      "execution_count": null,
      "outputs": [
        {
          "output_type": "display_data",
          "data": {
            "image/png": "[encoded data removed]",
            "text/plain": [
              "<Figure size 432x288 with 1 Axes>"
            ]
          },
          "metadata": {
            "tags": [],
            "needs_background": "light"
          }
        }
      ]
    },
    {
      "cell_type": "code",
      "metadata": {
        "id": "U6P5egmuZyio",
        "colab_type": "code",
        "colab": {
          "base_uri": "https://localhost:8080/",
          "height": 265
        },
        "outputId": "b7aca759-3241-4ced-b519-acc722213f0e"
      },
      "source": [
        "plt.plot(ht.history[\"accuracy\"],label = \"accuracy\")\n",
        "plt.plot(ht.history[\"val_accuracy\"],label = \"val_accuracy\")\n",
        "plt.legend()\n",
        "plt.show()"
      ],
      "execution_count": null,
      "outputs": [
        {
          "output_type": "display_data",
          "data": {
            "image/png": "[encoded data removed]",
            "text/plain": [
              "<Figure size 432x288 with 1 Axes>"
            ]
          },
          "metadata": {
            "tags": [],
            "needs_background": "light"
          }
        }
      ]
    },
    {
      "cell_type": "code",
      "metadata": {
        "id": "rooEbPGzh5yI",
        "colab_type": "code",
        "colab": {}
      },
      "source": [
        "model.save(\"model_tranlation1.h5\")"
      ],
      "execution_count": null,
      "outputs": []
    },
    {
      "cell_type": "markdown",
      "metadata": {
        "id": "qgPvf5IFichY",
        "colab_type": "text"
      },
      "source": [
        "Now what we gonna do is generate a sampling model which we will use for generating predictions"
      ]
    },
    {
      "cell_type": "code",
      "metadata": {
        "id": "e233SKsviI5Y",
        "colab_type": "code",
        "colab": {}
      },
      "source": [
        "encoder_model = Model(encoder_input,encoder_states)\n",
        "decoder_state_input_h = Input(shape = (M,))\n",
        "decoder_state_input_c = Input(shape = (M,))\n",
        "decoder_state_inputs = [decoder_state_input_h,decoder_state_input_c]\n",
        "\n",
        "decoder_input_single = Input(shape = (1,))\n",
        "decoder_input_single_x = decoder_embedding(decoder_input_single)\n",
        "decoder_output_x,h,c = decoder_lstm(decoder_input_single_x,initial_state = decoder_state_inputs)\n",
        "\n",
        "decoder_state = [h,c]\n",
        "decoder_output_x = decoder_dense(decoder_output_x)\n",
        "\n",
        "decoder_model = Model([decoder_input_single]+decoder_state_inputs,[decoder_output_x]+decoder_state)"
      ],
      "execution_count": null,
      "outputs": []
    },
    {
      "cell_type": "code",
      "metadata": {
        "id": "Ij2uc55Hm4dm",
        "colab_type": "code",
        "colab": {}
      },
      "source": [
        "idx2word_eng = {v:k for k,v in word2idx_input.items()}\n",
        "idx2word_spa = {a:b for b,a in word2idx_output.items()}"
      ],
      "execution_count": null,
      "outputs": []
    },
    {
      "cell_type": "code",
      "metadata": {
        "id": "_4piOZsCndNi",
        "colab_type": "code",
        "colab": {
          "base_uri": "https://localhost:8080/",
          "height": 366
        },
        "outputId": "1f94ad92-fce0-4693-9781-8f5c87435f43"
      },
      "source": [
        "for i in range(1,20):\n",
        "  print(idx2word_eng[i])"
      ],
      "execution_count": null,
      "outputs": [
        {
          "output_type": "stream",
          "text": [
            "i\n",
            "tom\n",
            "you\n",
            "is\n",
            "it\n",
            "a\n",
            "i'm\n",
            "me\n",
            "he\n",
            "this\n",
            "are\n",
            "we\n",
            "it's\n",
            "go\n",
            "do\n",
            "that\n",
            "was\n",
            "my\n",
            "they\n"
          ],
          "name": "stdout"
        }
      ]
    },
    {
      "cell_type": "code",
      "metadata": {
        "id": "4T_TH4JRn757",
        "colab_type": "code",
        "colab": {
          "base_uri": "https://localhost:8080/",
          "height": 384
        },
        "outputId": "fc0f9b97-a868-4dc6-8203-9d7b25bb3cc5"
      },
      "source": [
        "for i in range(1,20):\n",
        "  print(idx2word_spa[i])"
      ],
      "execution_count": null,
      "outputs": [
        {
          "output_type": "stream",
          "text": [
            "<sos>\n",
            "<eos>\n",
            "es\n",
            "tom\n",
            "a\n",
            "no\n",
            "me\n",
            "un\n",
            "está\n",
            "lo\n",
            "yo\n",
            "estoy\n",
            "la\n",
            "de\n",
            "se\n",
            "el\n",
            "él\n",
            "soy\n",
            "tom.\n",
            "\n"
          ],
          "name": "stdout"
        }
      ]
    },
    {
      "cell_type": "code",
      "metadata": {
        "id": "GHYH7dM-oMeB",
        "colab_type": "code",
        "colab": {}
      },
      "source": [
        "def decode_sequence(input_seq):\n",
        "  #Encoding the input as a state vector\n",
        "  state_value = encoder_model.predict(input_seq)\n",
        "  #Generating a input target sequence of length one\n",
        "  target_seq = np.zeros((1,1))\n",
        "  #Putting the first character of target sequence by start character\n",
        "  target_seq[0,0] = word2idx_output[\"<sos>\"]\n",
        "  #If we get eos we break\n",
        "  eos = word2idx_output[\"<eos>\"]\n",
        "  #Now we gonna be creating a translation and we will create a output list in which we will append all the generated words\n",
        "  output_sentence = []\n",
        "  for _ in range(max_o_len):\n",
        "    output,h,c = decoder_model.predict([target_seq]+state_value)\n",
        "    #Getting the next word using argmax\n",
        "    idx = np.argmax(output[0,0,:])\n",
        "    #If eos encountered break\n",
        "    if eos == idx:\n",
        "      break\n",
        "    word = \" \"\n",
        "    if idx>0:\n",
        "      word = idx2word_spa[idx]\n",
        "      output_sentence.append(word)\n",
        "    #Updating the decoders input and setting it to the word just predicted\n",
        "    target_seq[0,0] = idx\n",
        "    #Updating states\n",
        "    state_value = [h,c]\n",
        "  return \" \".join(output_sentence)"
      ],
      "execution_count": null,
      "outputs": []
    },
    {
      "cell_type": "markdown",
      "metadata": {
        "id": "39dU3TdvrW7S",
        "colab_type": "text"
      },
      "source": [
        "This decode_sequence function will generate the sentences and now we will call this inside a loop to generate sentences"
      ]
    },
    {
      "cell_type": "code",
      "metadata": {
        "id": "fG4UQUb0rSWV",
        "colab_type": "code",
        "colab": {
          "base_uri": "https://localhost:8080/",
          "height": 935
        },
        "outputId": "adf06d3b-9fc7-401d-b482-070e578c35a9"
      },
      "source": [
        "while True:\n",
        "  #First prediction will be random from the input text data\n",
        "  i = np.random.choice(len(input_text))\n",
        "  input_seq = encoder_inputs[i:i+1]\n",
        "  #Translating the input sentence\n",
        "  trans = decode_sequence(input_seq)\n",
        "  print(\"##@@##@@##@@##@@##@@##@@##@@##@@##\")\n",
        "  print(\"Input text: \",input_text[i])\n",
        "  print(\"Translated text: \",trans)\n",
        "  ans = input(\"Translation continuing status yes or no \")\n",
        "  if ans and ans.lower().startswith(\"n\"):\n",
        "    break"
      ],
      "execution_count": null,
      "outputs": [
        {
          "output_type": "stream",
          "text": [
            "##@@##@@##@@##@@##@@##@@##@@##@@##\n",
            "Input text:  God exists.\n",
            "Translated text:  dios existe.\n",
            "\n",
            "Translation continuing status yes or no yes\n",
            "##@@##@@##@@##@@##@@##@@##@@##@@##\n",
            "Input text:  Who panicked?\n",
            "Translated text:  ¿quién entró en pánico?\n",
            "\n",
            "Translation continuing status yes or no yes\n",
            "##@@##@@##@@##@@##@@##@@##@@##@@##\n",
            "Input text:  Tom was framed.\n",
            "Translated text:  tom fue enmarcado.\n",
            "\n",
            "Translation continuing status yes or no yes\n",
            "##@@##@@##@@##@@##@@##@@##@@##@@##\n",
            "Input text:  I needed that.\n",
            "Translated text:  yo necesité eso.\n",
            "\n",
            "Translation continuing status yes or no yes\n",
            "##@@##@@##@@##@@##@@##@@##@@##@@##\n",
            "Input text:  Tom is bald.\n",
            "Translated text:  tom está pelón.\n",
            "\n",
            "Translation continuing status yes or no yes\n",
            "##@@##@@##@@##@@##@@##@@##@@##@@##\n",
            "Input text:  He is bankrupt.\n",
            "Translated text:  él está arruinado.\n",
            "\n",
            "Translation continuing status yes or no yes\n",
            "##@@##@@##@@##@@##@@##@@##@@##@@##\n",
            "Input text:  He gave up.\n",
            "Translated text:  cedió.\n",
            "\n",
            "Translation continuing status yes or no yes\n",
            "##@@##@@##@@##@@##@@##@@##@@##@@##\n",
            "Input text:  Do you know us?\n",
            "Translated text:  ¿nos conoces?\n",
            "\n",
            "Translation continuing status yes or no es\n",
            "##@@##@@##@@##@@##@@##@@##@@##@@##\n",
            "Input text:  Tom misled Mary.\n",
            "Translated text:  tom perdió a mary.\n",
            "\n",
            "Translation continuing status yes or no yes\n",
            "##@@##@@##@@##@@##@@##@@##@@##@@##\n",
            "Input text:  Nothing is free.\n",
            "Translated text:  ¿a qué no ambas?\n",
            "\n",
            "Translation continuing status yes or no no\n"
          ],
          "name": "stdout"
        }
      ]
    },
    {
      "cell_type": "markdown",
      "metadata": {
        "id": "PcdjBmaBx_ne",
        "colab_type": "text"
      },
      "source": [
        "Basically encoding our input text to a vector hurt performance because we folds each and every input sequence regardless of their length to the same vector length and it will be very much better if our decoder make use of all the information rather than only the information from the last hidden state and that is where the attention mechanism comes to rescue"
      ]
    },
    {
      "cell_type": "code",
      "metadata": {
        "id": "mhCTIXHHvJwW",
        "colab_type": "code",
        "colab": {}
      },
      "source": [
        ""
      ],
      "execution_count": null,
      "outputs": []
    }
  ]
}